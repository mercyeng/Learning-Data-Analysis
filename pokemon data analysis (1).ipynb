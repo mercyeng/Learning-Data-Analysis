{
 "cells": [
  {
   "cell_type": "markdown",
   "id": "c7d612b0",
   "metadata": {},
   "source": [
    "## Pokemon game analysis.\n",
    "\n",
    "- The Dataset is about pokemon games. This Project is about studying and analyzing numerous pokemon from the popular gaming program Pokemon.   The Dataset contains numerous Pokemon metrics such as:  \n",
    "  -Type  \n",
    "  -HP  \n",
    "  -Attack  \n",
    "  -Defense  \n",
    "  -Speed   \n",
    "  -Sp. attack and Defense so forth. \n",
    "- The dataset is acquired from Kaggle site.   Python data science libraries such as numpy, pandas, matplotlib, and seaborn are utilized here.   The data will be rigorously examined beforehand, and any incorrect data will be eliminated before the analysis and results are shown.\n",
    "\n",
    "\n",
    "### Questions to derive from the dataset\n",
    " 1. What are the top 10 Pokemons as per Total points?\n",
    " 2. What is the correlation between defense and attack, Sp Attack and Sp. Defense?.\n",
    " 3. Which is the fastest pokemon?\n",
    " 4. Which are the Top 10 pokemon (having highest Total) with Attack > 100, Defense > 100, HP > 50 and  are Legendary ?\n",
    " 5. Popular Generation of pokemon?"
   ]
  },
  {
   "cell_type": "code",
   "execution_count": 72,
   "id": "9cb101f5",
   "metadata": {},
   "outputs": [],
   "source": [
    "#loading necessary libraries for analysis\n",
    "import pandas as pd\n",
    "import numpy as np\n",
    "from matplotlib import pyplot as plt\n",
    "import seaborn as sns\n",
    "%matplotlib inline\n"
   ]
  },
  {
   "cell_type": "code",
   "execution_count": 73,
   "id": "d3488621",
   "metadata": {
    "scrolled": true
   },
   "outputs": [
    {
     "data": {
      "text/html": [
       "<div>\n",
       "<style scoped>\n",
       "    .dataframe tbody tr th:only-of-type {\n",
       "        vertical-align: middle;\n",
       "    }\n",
       "\n",
       "    .dataframe tbody tr th {\n",
       "        vertical-align: top;\n",
       "    }\n",
       "\n",
       "    .dataframe thead th {\n",
       "        text-align: right;\n",
       "    }\n",
       "</style>\n",
       "<table border=\"1\" class=\"dataframe\">\n",
       "  <thead>\n",
       "    <tr style=\"text-align: right;\">\n",
       "      <th></th>\n",
       "      <th>Name</th>\n",
       "      <th>Type 1</th>\n",
       "      <th>Type 2</th>\n",
       "      <th>Total</th>\n",
       "      <th>HP</th>\n",
       "      <th>Attack</th>\n",
       "      <th>Defense</th>\n",
       "      <th>Sp. Atk</th>\n",
       "      <th>Sp. Def</th>\n",
       "      <th>Speed</th>\n",
       "      <th>Generation</th>\n",
       "      <th>Legendary</th>\n",
       "    </tr>\n",
       "    <tr>\n",
       "      <th>#</th>\n",
       "      <th></th>\n",
       "      <th></th>\n",
       "      <th></th>\n",
       "      <th></th>\n",
       "      <th></th>\n",
       "      <th></th>\n",
       "      <th></th>\n",
       "      <th></th>\n",
       "      <th></th>\n",
       "      <th></th>\n",
       "      <th></th>\n",
       "      <th></th>\n",
       "    </tr>\n",
       "  </thead>\n",
       "  <tbody>\n",
       "    <tr>\n",
       "      <th>1</th>\n",
       "      <td>Bulbasaur</td>\n",
       "      <td>Grass</td>\n",
       "      <td>Poison</td>\n",
       "      <td>318</td>\n",
       "      <td>45</td>\n",
       "      <td>49</td>\n",
       "      <td>49</td>\n",
       "      <td>65</td>\n",
       "      <td>65</td>\n",
       "      <td>45</td>\n",
       "      <td>1</td>\n",
       "      <td>False</td>\n",
       "    </tr>\n",
       "    <tr>\n",
       "      <th>2</th>\n",
       "      <td>Ivysaur</td>\n",
       "      <td>Grass</td>\n",
       "      <td>Poison</td>\n",
       "      <td>405</td>\n",
       "      <td>60</td>\n",
       "      <td>62</td>\n",
       "      <td>63</td>\n",
       "      <td>80</td>\n",
       "      <td>80</td>\n",
       "      <td>60</td>\n",
       "      <td>1</td>\n",
       "      <td>False</td>\n",
       "    </tr>\n",
       "    <tr>\n",
       "      <th>3</th>\n",
       "      <td>Venusaur</td>\n",
       "      <td>Grass</td>\n",
       "      <td>Poison</td>\n",
       "      <td>525</td>\n",
       "      <td>80</td>\n",
       "      <td>82</td>\n",
       "      <td>83</td>\n",
       "      <td>100</td>\n",
       "      <td>100</td>\n",
       "      <td>80</td>\n",
       "      <td>1</td>\n",
       "      <td>False</td>\n",
       "    </tr>\n",
       "    <tr>\n",
       "      <th>3</th>\n",
       "      <td>VenusaurMega Venusaur</td>\n",
       "      <td>Grass</td>\n",
       "      <td>Poison</td>\n",
       "      <td>625</td>\n",
       "      <td>80</td>\n",
       "      <td>100</td>\n",
       "      <td>123</td>\n",
       "      <td>122</td>\n",
       "      <td>120</td>\n",
       "      <td>80</td>\n",
       "      <td>1</td>\n",
       "      <td>False</td>\n",
       "    </tr>\n",
       "    <tr>\n",
       "      <th>4</th>\n",
       "      <td>Charmander</td>\n",
       "      <td>Fire</td>\n",
       "      <td>NaN</td>\n",
       "      <td>309</td>\n",
       "      <td>39</td>\n",
       "      <td>52</td>\n",
       "      <td>43</td>\n",
       "      <td>60</td>\n",
       "      <td>50</td>\n",
       "      <td>65</td>\n",
       "      <td>1</td>\n",
       "      <td>False</td>\n",
       "    </tr>\n",
       "  </tbody>\n",
       "</table>\n",
       "</div>"
      ],
      "text/plain": [
       "                    Name Type 1  Type 2  Total  HP  Attack  Defense  Sp. Atk  \\\n",
       "#                                                                              \n",
       "1              Bulbasaur  Grass  Poison    318  45      49       49       65   \n",
       "2                Ivysaur  Grass  Poison    405  60      62       63       80   \n",
       "3               Venusaur  Grass  Poison    525  80      82       83      100   \n",
       "3  VenusaurMega Venusaur  Grass  Poison    625  80     100      123      122   \n",
       "4             Charmander   Fire     NaN    309  39      52       43       60   \n",
       "\n",
       "   Sp. Def  Speed  Generation  Legendary  \n",
       "#                                         \n",
       "1       65     45           1      False  \n",
       "2       80     60           1      False  \n",
       "3      100     80           1      False  \n",
       "3      120     80           1      False  \n",
       "4       50     65           1      False  "
      ]
     },
     "execution_count": 73,
     "metadata": {},
     "output_type": "execute_result"
    }
   ],
   "source": [
    "#loading the dataset\n",
    "pokemon_df=pd.read_csv('Pokemon_dataset.csv', index_col=0)\n",
    "\n",
    "pokemon_df.head()"
   ]
  },
  {
   "cell_type": "code",
   "execution_count": 74,
   "id": "b64856cb",
   "metadata": {},
   "outputs": [
    {
     "data": {
      "text/plain": [
       "(800, 12)"
      ]
     },
     "execution_count": 74,
     "metadata": {},
     "output_type": "execute_result"
    }
   ],
   "source": [
    "pokemon_df.shape"
   ]
  },
  {
   "cell_type": "markdown",
   "id": "2c51ad12",
   "metadata": {},
   "source": [
    "#####  Our dataset comprises of 800 entries and 12 columns."
   ]
  },
  {
   "cell_type": "code",
   "execution_count": 75,
   "id": "bdccc3e7",
   "metadata": {},
   "outputs": [
    {
     "data": {
      "text/plain": [
       "Index(['Name', 'Type 1', 'Type 2', 'Total', 'HP', 'Attack', 'Defense',\n",
       "       'Sp. Atk', 'Sp. Def', 'Speed', 'Generation', 'Legendary'],\n",
       "      dtype='object')"
      ]
     },
     "execution_count": 75,
     "metadata": {},
     "output_type": "execute_result"
    }
   ],
   "source": [
    "#displaying the columns\n",
    "pokemon_df.columns"
   ]
  },
  {
   "cell_type": "markdown",
   "id": "959dccc4",
   "metadata": {},
   "source": [
    "#### Data wrangling and cleaning.\n"
   ]
  },
  {
   "cell_type": "code",
   "execution_count": 76,
   "id": "2a6644ab",
   "metadata": {},
   "outputs": [
    {
     "name": "stdout",
     "output_type": "stream",
     "text": [
      "<class 'pandas.core.frame.DataFrame'>\n",
      "Int64Index: 800 entries, 1 to 721\n",
      "Data columns (total 12 columns):\n",
      " #   Column      Non-Null Count  Dtype \n",
      "---  ------      --------------  ----- \n",
      " 0   Name        800 non-null    object\n",
      " 1   Type 1      800 non-null    object\n",
      " 2   Type 2      414 non-null    object\n",
      " 3   Total       800 non-null    int64 \n",
      " 4   HP          800 non-null    int64 \n",
      " 5   Attack      800 non-null    int64 \n",
      " 6   Defense     800 non-null    int64 \n",
      " 7   Sp. Atk     800 non-null    int64 \n",
      " 8   Sp. Def     800 non-null    int64 \n",
      " 9   Speed       800 non-null    int64 \n",
      " 10  Generation  800 non-null    int64 \n",
      " 11  Legendary   800 non-null    bool  \n",
      "dtypes: bool(1), int64(8), object(3)\n",
      "memory usage: 75.8+ KB\n"
     ]
    }
   ],
   "source": [
    "pokemon_df.info()\n"
   ]
  },
  {
   "cell_type": "code",
   "execution_count": 77,
   "id": "93f8cfdd",
   "metadata": {},
   "outputs": [
    {
     "data": {
      "text/html": [
       "<div>\n",
       "<style scoped>\n",
       "    .dataframe tbody tr th:only-of-type {\n",
       "        vertical-align: middle;\n",
       "    }\n",
       "\n",
       "    .dataframe tbody tr th {\n",
       "        vertical-align: top;\n",
       "    }\n",
       "\n",
       "    .dataframe thead th {\n",
       "        text-align: right;\n",
       "    }\n",
       "</style>\n",
       "<table border=\"1\" class=\"dataframe\">\n",
       "  <thead>\n",
       "    <tr style=\"text-align: right;\">\n",
       "      <th></th>\n",
       "      <th>Species</th>\n",
       "      <th>Type_1</th>\n",
       "      <th>Type_2</th>\n",
       "      <th>Total</th>\n",
       "      <th>HP</th>\n",
       "      <th>Attack</th>\n",
       "      <th>Defense</th>\n",
       "      <th>Sp. Atk</th>\n",
       "      <th>Sp. Def</th>\n",
       "      <th>Speed</th>\n",
       "      <th>Generation</th>\n",
       "      <th>Legendary</th>\n",
       "    </tr>\n",
       "    <tr>\n",
       "      <th>#</th>\n",
       "      <th></th>\n",
       "      <th></th>\n",
       "      <th></th>\n",
       "      <th></th>\n",
       "      <th></th>\n",
       "      <th></th>\n",
       "      <th></th>\n",
       "      <th></th>\n",
       "      <th></th>\n",
       "      <th></th>\n",
       "      <th></th>\n",
       "      <th></th>\n",
       "    </tr>\n",
       "  </thead>\n",
       "  <tbody>\n",
       "    <tr>\n",
       "      <th>1</th>\n",
       "      <td>Bulbasaur</td>\n",
       "      <td>Grass</td>\n",
       "      <td>Poison</td>\n",
       "      <td>318</td>\n",
       "      <td>45</td>\n",
       "      <td>49</td>\n",
       "      <td>49</td>\n",
       "      <td>65</td>\n",
       "      <td>65</td>\n",
       "      <td>45</td>\n",
       "      <td>1</td>\n",
       "      <td>False</td>\n",
       "    </tr>\n",
       "    <tr>\n",
       "      <th>2</th>\n",
       "      <td>Ivysaur</td>\n",
       "      <td>Grass</td>\n",
       "      <td>Poison</td>\n",
       "      <td>405</td>\n",
       "      <td>60</td>\n",
       "      <td>62</td>\n",
       "      <td>63</td>\n",
       "      <td>80</td>\n",
       "      <td>80</td>\n",
       "      <td>60</td>\n",
       "      <td>1</td>\n",
       "      <td>False</td>\n",
       "    </tr>\n",
       "    <tr>\n",
       "      <th>3</th>\n",
       "      <td>Venusaur</td>\n",
       "      <td>Grass</td>\n",
       "      <td>Poison</td>\n",
       "      <td>525</td>\n",
       "      <td>80</td>\n",
       "      <td>82</td>\n",
       "      <td>83</td>\n",
       "      <td>100</td>\n",
       "      <td>100</td>\n",
       "      <td>80</td>\n",
       "      <td>1</td>\n",
       "      <td>False</td>\n",
       "    </tr>\n",
       "  </tbody>\n",
       "</table>\n",
       "</div>"
      ],
      "text/plain": [
       "     Species Type_1  Type_2  Total  HP  Attack  Defense  Sp. Atk  Sp. Def  \\\n",
       "#                                                                           \n",
       "1  Bulbasaur  Grass  Poison    318  45      49       49       65       65   \n",
       "2    Ivysaur  Grass  Poison    405  60      62       63       80       80   \n",
       "3   Venusaur  Grass  Poison    525  80      82       83      100      100   \n",
       "\n",
       "   Speed  Generation  Legendary  \n",
       "#                                \n",
       "1     45           1      False  \n",
       "2     60           1      False  \n",
       "3     80           1      False  "
      ]
     },
     "execution_count": 77,
     "metadata": {},
     "output_type": "execute_result"
    }
   ],
   "source": [
    "#renaming column(s)\n",
    "pokemon_df=pokemon_df.rename(columns={'Name':'Species', 'Type 1':'Type_1', 'Type 2':'Type_2'})\n",
    "\n",
    "pokemon_df.head(3)\n"
   ]
  },
  {
   "cell_type": "code",
   "execution_count": 78,
   "id": "c891729e",
   "metadata": {},
   "outputs": [
    {
     "data": {
      "text/html": [
       "<div>\n",
       "<style scoped>\n",
       "    .dataframe tbody tr th:only-of-type {\n",
       "        vertical-align: middle;\n",
       "    }\n",
       "\n",
       "    .dataframe tbody tr th {\n",
       "        vertical-align: top;\n",
       "    }\n",
       "\n",
       "    .dataframe thead th {\n",
       "        text-align: right;\n",
       "    }\n",
       "</style>\n",
       "<table border=\"1\" class=\"dataframe\">\n",
       "  <thead>\n",
       "    <tr style=\"text-align: right;\">\n",
       "      <th></th>\n",
       "      <th>Species</th>\n",
       "      <th>Type_1</th>\n",
       "      <th>Type_2</th>\n",
       "      <th>Attack</th>\n",
       "      <th>Defense</th>\n",
       "      <th>Speed</th>\n",
       "      <th>Sp. Atk</th>\n",
       "      <th>Sp. Def</th>\n",
       "      <th>HP</th>\n",
       "      <th>Total</th>\n",
       "      <th>Generation</th>\n",
       "      <th>Legendary</th>\n",
       "    </tr>\n",
       "    <tr>\n",
       "      <th>#</th>\n",
       "      <th></th>\n",
       "      <th></th>\n",
       "      <th></th>\n",
       "      <th></th>\n",
       "      <th></th>\n",
       "      <th></th>\n",
       "      <th></th>\n",
       "      <th></th>\n",
       "      <th></th>\n",
       "      <th></th>\n",
       "      <th></th>\n",
       "      <th></th>\n",
       "    </tr>\n",
       "  </thead>\n",
       "  <tbody>\n",
       "    <tr>\n",
       "      <th>1</th>\n",
       "      <td>Bulbasaur</td>\n",
       "      <td>Grass</td>\n",
       "      <td>Poison</td>\n",
       "      <td>49</td>\n",
       "      <td>49</td>\n",
       "      <td>45</td>\n",
       "      <td>65</td>\n",
       "      <td>65</td>\n",
       "      <td>45</td>\n",
       "      <td>318</td>\n",
       "      <td>1</td>\n",
       "      <td>False</td>\n",
       "    </tr>\n",
       "    <tr>\n",
       "      <th>2</th>\n",
       "      <td>Ivysaur</td>\n",
       "      <td>Grass</td>\n",
       "      <td>Poison</td>\n",
       "      <td>62</td>\n",
       "      <td>63</td>\n",
       "      <td>60</td>\n",
       "      <td>80</td>\n",
       "      <td>80</td>\n",
       "      <td>60</td>\n",
       "      <td>405</td>\n",
       "      <td>1</td>\n",
       "      <td>False</td>\n",
       "    </tr>\n",
       "    <tr>\n",
       "      <th>3</th>\n",
       "      <td>Venusaur</td>\n",
       "      <td>Grass</td>\n",
       "      <td>Poison</td>\n",
       "      <td>82</td>\n",
       "      <td>83</td>\n",
       "      <td>80</td>\n",
       "      <td>100</td>\n",
       "      <td>100</td>\n",
       "      <td>80</td>\n",
       "      <td>525</td>\n",
       "      <td>1</td>\n",
       "      <td>False</td>\n",
       "    </tr>\n",
       "  </tbody>\n",
       "</table>\n",
       "</div>"
      ],
      "text/plain": [
       "     Species Type_1  Type_2  Attack  Defense  Speed  Sp. Atk  Sp. Def  HP  \\\n",
       "#                                                                           \n",
       "1  Bulbasaur  Grass  Poison      49       49     45       65       65  45   \n",
       "2    Ivysaur  Grass  Poison      62       63     60       80       80  60   \n",
       "3   Venusaur  Grass  Poison      82       83     80      100      100  80   \n",
       "\n",
       "   Total  Generation  Legendary  \n",
       "#                                \n",
       "1    318           1      False  \n",
       "2    405           1      False  \n",
       "3    525           1      False  "
      ]
     },
     "execution_count": 78,
     "metadata": {},
     "output_type": "execute_result"
    }
   ],
   "source": [
    "#reindexing the columns\n",
    "\n",
    "pokemon_df=pokemon_df.reindex(columns=['Species', 'Type_1', 'Type_2', 'Attack', 'Defense', 'Speed', 'Sp. Atk', 'Sp. Def', \n",
    "                                      'HP', 'Total', 'Generation', 'Legendary'])\n",
    "\n",
    "pokemon_df.head(3)"
   ]
  },
  {
   "cell_type": "code",
   "execution_count": 79,
   "id": "3feee54e",
   "metadata": {},
   "outputs": [
    {
     "data": {
      "text/plain": [
       "Species         0\n",
       "Type_1          0\n",
       "Type_2        386\n",
       "Attack          0\n",
       "Defense         0\n",
       "Speed           0\n",
       "Sp. Atk         0\n",
       "Sp. Def         0\n",
       "HP              0\n",
       "Total           0\n",
       "Generation      0\n",
       "Legendary       0\n",
       "dtype: int64"
      ]
     },
     "execution_count": 79,
     "metadata": {},
     "output_type": "execute_result"
    }
   ],
   "source": [
    "# checking for columns with missing values in the dataset\n",
    "\n",
    "pokemon_df.isnull().sum()"
   ]
  },
  {
   "cell_type": "markdown",
   "id": "5a30902f",
   "metadata": {},
   "source": [
    "Column(s) with missing values include:\n",
    "  - Type 2 with 386   \n",
    "- The following cell defines a function that will deal with the missing values. Deleting the empty records is not a option\n",
    "    for dealing with missing values as this will distort our dataset. Therefore we shall key in N/A to indicate not   applicable or the name type was not specified."
   ]
  },
  {
   "cell_type": "code",
   "execution_count": 80,
   "id": "c5338c22",
   "metadata": {},
   "outputs": [],
   "source": [
    "# defining a function\n",
    "def obj_fill(col):\n",
    "    \"\"\"function to fill missing values within non-numeric columns\"\"\"\n",
    "    col.fillna('N/A',inplace=True)"
   ]
  },
  {
   "cell_type": "code",
   "execution_count": 81,
   "id": "a632f9b2",
   "metadata": {},
   "outputs": [],
   "source": [
    "#using the function to fill in null values in Type 2 col\n",
    "\n",
    "obj_fill(pokemon_df['Type_2'])"
   ]
  },
  {
   "cell_type": "code",
   "execution_count": 82,
   "id": "28bb0aa0",
   "metadata": {},
   "outputs": [
    {
     "data": {
      "text/plain": [
       "Species       0\n",
       "Type_1        0\n",
       "Type_2        0\n",
       "Attack        0\n",
       "Defense       0\n",
       "Speed         0\n",
       "Sp. Atk       0\n",
       "Sp. Def       0\n",
       "HP            0\n",
       "Total         0\n",
       "Generation    0\n",
       "Legendary     0\n",
       "dtype: int64"
      ]
     },
     "execution_count": 82,
     "metadata": {},
     "output_type": "execute_result"
    }
   ],
   "source": [
    "#checking if the changes have reflected and no more null values\n",
    "\n",
    "pokemon_df.isnull().sum()"
   ]
  },
  {
   "cell_type": "code",
   "execution_count": 83,
   "id": "4eb5f441",
   "metadata": {},
   "outputs": [
    {
     "data": {
      "text/plain": [
       "False"
      ]
     },
     "execution_count": 83,
     "metadata": {},
     "output_type": "execute_result"
    }
   ],
   "source": [
    "#checking for duplicate values\n",
    "pokemon_df.duplicated().any()"
   ]
  },
  {
   "cell_type": "code",
   "execution_count": 84,
   "id": "6e8d96dc",
   "metadata": {},
   "outputs": [
    {
     "data": {
      "text/html": [
       "<div>\n",
       "<style scoped>\n",
       "    .dataframe tbody tr th:only-of-type {\n",
       "        vertical-align: middle;\n",
       "    }\n",
       "\n",
       "    .dataframe tbody tr th {\n",
       "        vertical-align: top;\n",
       "    }\n",
       "\n",
       "    .dataframe thead th {\n",
       "        text-align: right;\n",
       "    }\n",
       "</style>\n",
       "<table border=\"1\" class=\"dataframe\">\n",
       "  <thead>\n",
       "    <tr style=\"text-align: right;\">\n",
       "      <th></th>\n",
       "      <th>Attack</th>\n",
       "      <th>Defense</th>\n",
       "      <th>Speed</th>\n",
       "      <th>Sp. Atk</th>\n",
       "      <th>Sp. Def</th>\n",
       "      <th>HP</th>\n",
       "      <th>Total</th>\n",
       "      <th>Generation</th>\n",
       "    </tr>\n",
       "  </thead>\n",
       "  <tbody>\n",
       "    <tr>\n",
       "      <th>count</th>\n",
       "      <td>800.000000</td>\n",
       "      <td>800.000000</td>\n",
       "      <td>800.000000</td>\n",
       "      <td>800.000000</td>\n",
       "      <td>800.000000</td>\n",
       "      <td>800.000000</td>\n",
       "      <td>800.00000</td>\n",
       "      <td>800.00000</td>\n",
       "    </tr>\n",
       "    <tr>\n",
       "      <th>mean</th>\n",
       "      <td>79.001250</td>\n",
       "      <td>73.842500</td>\n",
       "      <td>68.277500</td>\n",
       "      <td>72.820000</td>\n",
       "      <td>71.902500</td>\n",
       "      <td>69.258750</td>\n",
       "      <td>435.10250</td>\n",
       "      <td>3.32375</td>\n",
       "    </tr>\n",
       "    <tr>\n",
       "      <th>std</th>\n",
       "      <td>32.457366</td>\n",
       "      <td>31.183501</td>\n",
       "      <td>29.060474</td>\n",
       "      <td>32.722294</td>\n",
       "      <td>27.828916</td>\n",
       "      <td>25.534669</td>\n",
       "      <td>119.96304</td>\n",
       "      <td>1.66129</td>\n",
       "    </tr>\n",
       "    <tr>\n",
       "      <th>min</th>\n",
       "      <td>5.000000</td>\n",
       "      <td>5.000000</td>\n",
       "      <td>5.000000</td>\n",
       "      <td>10.000000</td>\n",
       "      <td>20.000000</td>\n",
       "      <td>1.000000</td>\n",
       "      <td>180.00000</td>\n",
       "      <td>1.00000</td>\n",
       "    </tr>\n",
       "    <tr>\n",
       "      <th>25%</th>\n",
       "      <td>55.000000</td>\n",
       "      <td>50.000000</td>\n",
       "      <td>45.000000</td>\n",
       "      <td>49.750000</td>\n",
       "      <td>50.000000</td>\n",
       "      <td>50.000000</td>\n",
       "      <td>330.00000</td>\n",
       "      <td>2.00000</td>\n",
       "    </tr>\n",
       "    <tr>\n",
       "      <th>50%</th>\n",
       "      <td>75.000000</td>\n",
       "      <td>70.000000</td>\n",
       "      <td>65.000000</td>\n",
       "      <td>65.000000</td>\n",
       "      <td>70.000000</td>\n",
       "      <td>65.000000</td>\n",
       "      <td>450.00000</td>\n",
       "      <td>3.00000</td>\n",
       "    </tr>\n",
       "    <tr>\n",
       "      <th>75%</th>\n",
       "      <td>100.000000</td>\n",
       "      <td>90.000000</td>\n",
       "      <td>90.000000</td>\n",
       "      <td>95.000000</td>\n",
       "      <td>90.000000</td>\n",
       "      <td>80.000000</td>\n",
       "      <td>515.00000</td>\n",
       "      <td>5.00000</td>\n",
       "    </tr>\n",
       "    <tr>\n",
       "      <th>max</th>\n",
       "      <td>190.000000</td>\n",
       "      <td>230.000000</td>\n",
       "      <td>180.000000</td>\n",
       "      <td>194.000000</td>\n",
       "      <td>230.000000</td>\n",
       "      <td>255.000000</td>\n",
       "      <td>780.00000</td>\n",
       "      <td>6.00000</td>\n",
       "    </tr>\n",
       "  </tbody>\n",
       "</table>\n",
       "</div>"
      ],
      "text/plain": [
       "           Attack     Defense       Speed     Sp. Atk     Sp. Def          HP  \\\n",
       "count  800.000000  800.000000  800.000000  800.000000  800.000000  800.000000   \n",
       "mean    79.001250   73.842500   68.277500   72.820000   71.902500   69.258750   \n",
       "std     32.457366   31.183501   29.060474   32.722294   27.828916   25.534669   \n",
       "min      5.000000    5.000000    5.000000   10.000000   20.000000    1.000000   \n",
       "25%     55.000000   50.000000   45.000000   49.750000   50.000000   50.000000   \n",
       "50%     75.000000   70.000000   65.000000   65.000000   70.000000   65.000000   \n",
       "75%    100.000000   90.000000   90.000000   95.000000   90.000000   80.000000   \n",
       "max    190.000000  230.000000  180.000000  194.000000  230.000000  255.000000   \n",
       "\n",
       "           Total  Generation  \n",
       "count  800.00000   800.00000  \n",
       "mean   435.10250     3.32375  \n",
       "std    119.96304     1.66129  \n",
       "min    180.00000     1.00000  \n",
       "25%    330.00000     2.00000  \n",
       "50%    450.00000     3.00000  \n",
       "75%    515.00000     5.00000  \n",
       "max    780.00000     6.00000  "
      ]
     },
     "execution_count": 84,
     "metadata": {},
     "output_type": "execute_result"
    }
   ],
   "source": [
    "# Displaying the descriptive summary statictics of our data\n",
    "\n",
    "pokemon_df.describe()"
   ]
  },
  {
   "cell_type": "markdown",
   "id": "f04f459e",
   "metadata": {},
   "source": [
    "- Key Inisghts from the descriptive summary statistics:\n",
    "      - Maximum attained speed is 180.\n",
    "      - Lowest Hit points one can have is 1.\n",
    "      - Highest score is 780."
   ]
  },
  {
   "cell_type": "markdown",
   "id": "bc8733f1",
   "metadata": {},
   "source": [
    "### Exploratory Data analysis and Visualization"
   ]
  },
  {
   "cell_type": "markdown",
   "id": "b232281c",
   "metadata": {},
   "source": [
    "### Descriptive Analysis."
   ]
  },
  {
   "cell_type": "code",
   "execution_count": 85,
   "id": "1563fff6",
   "metadata": {},
   "outputs": [
    {
     "data": {
      "text/plain": [
       "Water       112\n",
       "Normal       98\n",
       "Grass        70\n",
       "Bug          69\n",
       "Psychic      57\n",
       "Fire         52\n",
       "Electric     44\n",
       "Rock         44\n",
       "Dragon       32\n",
       "Ground       32\n",
       "Ghost        32\n",
       "Dark         31\n",
       "Poison       28\n",
       "Steel        27\n",
       "Fighting     27\n",
       "Ice          24\n",
       "Fairy        17\n",
       "Flying        4\n",
       "Name: Type_1, dtype: int64"
      ]
     },
     "execution_count": 85,
     "metadata": {},
     "output_type": "execute_result"
    }
   ],
   "source": [
    "#counting number of pokemons each type 1 has:\n",
    "pokemon_df['Type_1'].value_counts()\n"
   ]
  },
  {
   "cell_type": "code",
   "execution_count": 86,
   "id": "39d32a50",
   "metadata": {},
   "outputs": [
    {
     "data": {
      "text/plain": [
       "N/A         386\n",
       "Flying       97\n",
       "Ground       35\n",
       "Poison       34\n",
       "Psychic      33\n",
       "Fighting     26\n",
       "Grass        25\n",
       "Fairy        23\n",
       "Steel        22\n",
       "Dark         20\n",
       "Dragon       18\n",
       "Ice          14\n",
       "Rock         14\n",
       "Water        14\n",
       "Ghost        14\n",
       "Fire         12\n",
       "Electric      6\n",
       "Normal        4\n",
       "Bug           3\n",
       "Name: Type_2, dtype: int64"
      ]
     },
     "execution_count": 86,
     "metadata": {},
     "output_type": "execute_result"
    }
   ],
   "source": [
    "#counting number of pokemons each type 1 has:\n",
    "pokemon_df['Type_2'].value_counts()\n"
   ]
  },
  {
   "cell_type": "code",
   "execution_count": 87,
   "id": "d6c5c0bf",
   "metadata": {},
   "outputs": [
    {
     "data": {
      "image/png": "[encoded data removed]",
      "text/plain": [
       "<Figure size 576x360 with 2 Axes>"
      ]
     },
     "metadata": {},
     "output_type": "display_data"
    }
   ],
   "source": [
    "#displaying countplot of the pokemon species by their types.\n",
    "\n",
    "#setting order of the bar graph\n",
    "type_order = pokemon_df['Type_1'].value_counts().sort_values(ascending=False).index\n",
    "\n",
    "#set seaborn plotting aesthetics as default\n",
    "sns.set()\n",
    "\n",
    "#define plotting region (2 rows, 2 columns)\n",
    "plt.figure(figsize=(8,5))\n",
    "plt.subplot(1,2,1)\n",
    "sns.countplot(y='Type_1', data=pokemon_df, color='orange', order=type_order)\n",
    "plt.xlabel('Count')\n",
    "plt.ylabel('Species_Type')\n",
    "plt.title('Type 1 Pokemon Species distribution')\n",
    "\n",
    "#setting order of the graph\n",
    "\n",
    "Order = pokemon_df['Type_2'].value_counts().sort_values(ascending=False).index\n",
    "\n",
    "#defining plotting region and the plot\n",
    "plt.subplot(1,2,2)\n",
    "sns.countplot(y='Type_2', data=pokemon_df, color='orange', order=Order)\n",
    "plt.xlabel('Count')\n",
    "plt.ylabel('Species_Type')\n",
    "plt.title('Type 2 Pokemon Species distribution')\n",
    "\n",
    "plt.tight_layout()\n"
   ]
  },
  {
   "cell_type": "markdown",
   "id": "2682c886",
   "metadata": {},
   "source": [
    "Insights from the plots above:\n",
    "1. We can confirm from Type 1 barplot that Water is the most common pokemon type garnering 112 participants.\n",
    "2. Type 2 barplot visualizes the huge number(exactly 386) of unspecified type.\n",
    "3. The type 2 barplot also characterizes flying as the most common pokemon type with close to 100 participant."
   ]
  },
  {
   "cell_type": "markdown",
   "id": "503ab3f3",
   "metadata": {},
   "source": [
    "#### Pokemon's Speed"
   ]
  },
  {
   "cell_type": "code",
   "execution_count": 88,
   "id": "f9aa9b8d",
   "metadata": {},
   "outputs": [
    {
     "data": {
      "text/html": [
       "<div>\n",
       "<style scoped>\n",
       "    .dataframe tbody tr th:only-of-type {\n",
       "        vertical-align: middle;\n",
       "    }\n",
       "\n",
       "    .dataframe tbody tr th {\n",
       "        vertical-align: top;\n",
       "    }\n",
       "\n",
       "    .dataframe thead th {\n",
       "        text-align: right;\n",
       "    }\n",
       "</style>\n",
       "<table border=\"1\" class=\"dataframe\">\n",
       "  <thead>\n",
       "    <tr style=\"text-align: right;\">\n",
       "      <th></th>\n",
       "      <th>Species</th>\n",
       "      <th>Type_1</th>\n",
       "      <th>Type_2</th>\n",
       "      <th>Attack</th>\n",
       "      <th>Defense</th>\n",
       "      <th>Speed</th>\n",
       "      <th>Sp. Atk</th>\n",
       "      <th>Sp. Def</th>\n",
       "      <th>HP</th>\n",
       "      <th>Total</th>\n",
       "      <th>Generation</th>\n",
       "      <th>Legendary</th>\n",
       "      <th>Fast</th>\n",
       "    </tr>\n",
       "    <tr>\n",
       "      <th>#</th>\n",
       "      <th></th>\n",
       "      <th></th>\n",
       "      <th></th>\n",
       "      <th></th>\n",
       "      <th></th>\n",
       "      <th></th>\n",
       "      <th></th>\n",
       "      <th></th>\n",
       "      <th></th>\n",
       "      <th></th>\n",
       "      <th></th>\n",
       "      <th></th>\n",
       "      <th></th>\n",
       "    </tr>\n",
       "  </thead>\n",
       "  <tbody>\n",
       "    <tr>\n",
       "      <th>1</th>\n",
       "      <td>Bulbasaur</td>\n",
       "      <td>Grass</td>\n",
       "      <td>Poison</td>\n",
       "      <td>49</td>\n",
       "      <td>49</td>\n",
       "      <td>45</td>\n",
       "      <td>65</td>\n",
       "      <td>65</td>\n",
       "      <td>45</td>\n",
       "      <td>318</td>\n",
       "      <td>1</td>\n",
       "      <td>False</td>\n",
       "      <td>False</td>\n",
       "    </tr>\n",
       "    <tr>\n",
       "      <th>2</th>\n",
       "      <td>Ivysaur</td>\n",
       "      <td>Grass</td>\n",
       "      <td>Poison</td>\n",
       "      <td>62</td>\n",
       "      <td>63</td>\n",
       "      <td>60</td>\n",
       "      <td>80</td>\n",
       "      <td>80</td>\n",
       "      <td>60</td>\n",
       "      <td>405</td>\n",
       "      <td>1</td>\n",
       "      <td>False</td>\n",
       "      <td>False</td>\n",
       "    </tr>\n",
       "    <tr>\n",
       "      <th>3</th>\n",
       "      <td>Venusaur</td>\n",
       "      <td>Grass</td>\n",
       "      <td>Poison</td>\n",
       "      <td>82</td>\n",
       "      <td>83</td>\n",
       "      <td>80</td>\n",
       "      <td>100</td>\n",
       "      <td>100</td>\n",
       "      <td>80</td>\n",
       "      <td>525</td>\n",
       "      <td>1</td>\n",
       "      <td>False</td>\n",
       "      <td>False</td>\n",
       "    </tr>\n",
       "  </tbody>\n",
       "</table>\n",
       "</div>"
      ],
      "text/plain": [
       "     Species Type_1  Type_2  Attack  Defense  Speed  Sp. Atk  Sp. Def  HP  \\\n",
       "#                                                                           \n",
       "1  Bulbasaur  Grass  Poison      49       49     45       65       65  45   \n",
       "2    Ivysaur  Grass  Poison      62       63     60       80       80  60   \n",
       "3   Venusaur  Grass  Poison      82       83     80      100      100  80   \n",
       "\n",
       "   Total  Generation  Legendary   Fast  \n",
       "#                                       \n",
       "1    318           1      False  False  \n",
       "2    405           1      False  False  \n",
       "3    525           1      False  False  "
      ]
     },
     "execution_count": 88,
     "metadata": {},
     "output_type": "execute_result"
    }
   ],
   "source": [
    "#Adding a new column in the dataframe with Boolean value to categorize fastest pokemons\n",
    "pokemon_df['Fast']= pokemon_df.Speed > 120\n",
    "\n",
    "#checking of the column has been created\n",
    "pokemon_df.head(3)"
   ]
  },
  {
   "cell_type": "code",
   "execution_count": 89,
   "id": "0174a960",
   "metadata": {},
   "outputs": [
    {
     "data": {
      "text/plain": [
       "(29, 13)"
      ]
     },
     "execution_count": 89,
     "metadata": {},
     "output_type": "execute_result"
    }
   ],
   "source": [
    "#checking how many rows of fast pokemons are there\n",
    "pokemon_df[pokemon_df.Fast == True].shape"
   ]
  },
  {
   "cell_type": "markdown",
   "id": "c35e90de",
   "metadata": {},
   "source": [
    "From the cell above we can see that there are 29 pokemons all having speeds above 120."
   ]
  },
  {
   "cell_type": "code",
   "execution_count": 90,
   "id": "52dbca0f",
   "metadata": {},
   "outputs": [
    {
     "data": {
      "text/html": [
       "<div>\n",
       "<style scoped>\n",
       "    .dataframe tbody tr th:only-of-type {\n",
       "        vertical-align: middle;\n",
       "    }\n",
       "\n",
       "    .dataframe tbody tr th {\n",
       "        vertical-align: top;\n",
       "    }\n",
       "\n",
       "    .dataframe thead th {\n",
       "        text-align: right;\n",
       "    }\n",
       "</style>\n",
       "<table border=\"1\" class=\"dataframe\">\n",
       "  <thead>\n",
       "    <tr style=\"text-align: right;\">\n",
       "      <th></th>\n",
       "      <th>Species</th>\n",
       "      <th>Type_1</th>\n",
       "      <th>Type_2</th>\n",
       "      <th>Attack</th>\n",
       "      <th>Defense</th>\n",
       "      <th>Speed</th>\n",
       "      <th>Sp. Atk</th>\n",
       "      <th>Sp. Def</th>\n",
       "      <th>HP</th>\n",
       "      <th>Total</th>\n",
       "      <th>Generation</th>\n",
       "      <th>Legendary</th>\n",
       "      <th>Fast</th>\n",
       "    </tr>\n",
       "    <tr>\n",
       "      <th>#</th>\n",
       "      <th></th>\n",
       "      <th></th>\n",
       "      <th></th>\n",
       "      <th></th>\n",
       "      <th></th>\n",
       "      <th></th>\n",
       "      <th></th>\n",
       "      <th></th>\n",
       "      <th></th>\n",
       "      <th></th>\n",
       "      <th></th>\n",
       "      <th></th>\n",
       "      <th></th>\n",
       "    </tr>\n",
       "  </thead>\n",
       "  <tbody>\n",
       "    <tr>\n",
       "      <th>386</th>\n",
       "      <td>DeoxysSpeed Forme</td>\n",
       "      <td>Psychic</td>\n",
       "      <td>N/A</td>\n",
       "      <td>95</td>\n",
       "      <td>90</td>\n",
       "      <td>180</td>\n",
       "      <td>95</td>\n",
       "      <td>90</td>\n",
       "      <td>50</td>\n",
       "      <td>600</td>\n",
       "      <td>3</td>\n",
       "      <td>True</td>\n",
       "      <td>True</td>\n",
       "    </tr>\n",
       "    <tr>\n",
       "      <th>291</th>\n",
       "      <td>Ninjask</td>\n",
       "      <td>Bug</td>\n",
       "      <td>Flying</td>\n",
       "      <td>90</td>\n",
       "      <td>45</td>\n",
       "      <td>160</td>\n",
       "      <td>50</td>\n",
       "      <td>50</td>\n",
       "      <td>61</td>\n",
       "      <td>456</td>\n",
       "      <td>3</td>\n",
       "      <td>False</td>\n",
       "      <td>True</td>\n",
       "    </tr>\n",
       "    <tr>\n",
       "      <th>386</th>\n",
       "      <td>DeoxysNormal Forme</td>\n",
       "      <td>Psychic</td>\n",
       "      <td>N/A</td>\n",
       "      <td>150</td>\n",
       "      <td>50</td>\n",
       "      <td>150</td>\n",
       "      <td>150</td>\n",
       "      <td>50</td>\n",
       "      <td>50</td>\n",
       "      <td>600</td>\n",
       "      <td>3</td>\n",
       "      <td>True</td>\n",
       "      <td>True</td>\n",
       "    </tr>\n",
       "    <tr>\n",
       "      <th>142</th>\n",
       "      <td>AerodactylMega Aerodactyl</td>\n",
       "      <td>Rock</td>\n",
       "      <td>Flying</td>\n",
       "      <td>135</td>\n",
       "      <td>85</td>\n",
       "      <td>150</td>\n",
       "      <td>70</td>\n",
       "      <td>95</td>\n",
       "      <td>80</td>\n",
       "      <td>615</td>\n",
       "      <td>1</td>\n",
       "      <td>False</td>\n",
       "      <td>True</td>\n",
       "    </tr>\n",
       "    <tr>\n",
       "      <th>65</th>\n",
       "      <td>AlakazamMega Alakazam</td>\n",
       "      <td>Psychic</td>\n",
       "      <td>N/A</td>\n",
       "      <td>50</td>\n",
       "      <td>65</td>\n",
       "      <td>150</td>\n",
       "      <td>175</td>\n",
       "      <td>95</td>\n",
       "      <td>55</td>\n",
       "      <td>590</td>\n",
       "      <td>1</td>\n",
       "      <td>False</td>\n",
       "      <td>True</td>\n",
       "    </tr>\n",
       "  </tbody>\n",
       "</table>\n",
       "</div>"
      ],
      "text/plain": [
       "                       Species   Type_1  Type_2  Attack  Defense  Speed  \\\n",
       "#                                                                         \n",
       "386          DeoxysSpeed Forme  Psychic     N/A      95       90    180   \n",
       "291                    Ninjask      Bug  Flying      90       45    160   \n",
       "386         DeoxysNormal Forme  Psychic     N/A     150       50    150   \n",
       "142  AerodactylMega Aerodactyl     Rock  Flying     135       85    150   \n",
       "65       AlakazamMega Alakazam  Psychic     N/A      50       65    150   \n",
       "\n",
       "     Sp. Atk  Sp. Def  HP  Total  Generation  Legendary  Fast  \n",
       "#                                                              \n",
       "386       95       90  50    600           3       True  True  \n",
       "291       50       50  61    456           3      False  True  \n",
       "386      150       50  50    600           3       True  True  \n",
       "142       70       95  80    615           1      False  True  \n",
       "65       175       95  55    590           1      False  True  "
      ]
     },
     "execution_count": 90,
     "metadata": {},
     "output_type": "execute_result"
    },
    {
     "data": {
      "image/png": "[encoded data removed]",
      "text/plain": [
       "<Figure size 432x288 with 1 Axes>"
      ]
     },
     "metadata": {},
     "output_type": "display_data"
    }
   ],
   "source": [
    "# plotting hist plots to see distribution of the data \n",
    "plt.hist(pokemon_df.Speed.dropna(), bins=5)\n",
    "plt.xlabel('Pokemon Speed')\n",
    "plt.ylabel('Count')\n",
    "plt.title(\"Distribution of Pokemon's speed\")\n",
    "\n",
    "\n",
    "#displaying the top 10 fastest pokemons\n",
    "pokemon_df.sort_values('Speed', ascending=False).head(5)"
   ]
  },
  {
   "cell_type": "markdown",
   "id": "245349c4",
   "metadata": {},
   "source": [
    " Insights from above, we can conclude the following:\n",
    "  1. Majority of the pokemons have speeds between 50-100.\n",
    "  2. There very few pokemons with speed above 150.\n",
    "  3. There 125 pokemons with speeds between 5-50.\n",
    "  4. Fastest pokemon is DeoxysSpeed Forme with speed of 180."
   ]
  },
  {
   "cell_type": "markdown",
   "id": "f475b9b2",
   "metadata": {},
   "source": [
    "#### Pokemon's Attack "
   ]
  },
  {
   "cell_type": "code",
   "execution_count": 91,
   "id": "f74cc00c",
   "metadata": {},
   "outputs": [
    {
     "data": {
      "text/plain": [
       "Text(0.5, 1.0, 'Pokemons Attack distribution')"
      ]
     },
     "execution_count": 91,
     "metadata": {},
     "output_type": "execute_result"
    },
    {
     "data": {
      "image/png": "[encoded data removed]",
      "text/plain": [
       "<Figure size 432x288 with 1 Axes>"
      ]
     },
     "metadata": {},
     "output_type": "display_data"
    }
   ],
   "source": [
    "#displaying attacks distribution using histogram.\n",
    "plt.hist(pokemon_df.Attack.dropna(), bins=5)\n",
    "plt.xlabel('Attack')\n",
    "plt.ylabel('Count')\n",
    "plt.title('Pokemons Attack distribution')"
   ]
  },
  {
   "cell_type": "markdown",
   "id": "55022fa4",
   "metadata": {},
   "source": [
    " From the Histogram we can conclude the following:\n",
    "  1. Most pokemons(app 325) have an attack of between 50-75\n",
    "  2. Coming in second is approximately 275 pokemons with an attack between 75-125.\n",
    "  3. Approximately 20 pokemons have an Attack of above 150.\n",
    "  4. Approximately 75 pokemons have an attack of between 5- 50"
   ]
  },
  {
   "cell_type": "markdown",
   "id": "510f2a21",
   "metadata": {},
   "source": [
    "#### Pokemons' Total points Distribution"
   ]
  },
  {
   "cell_type": "code",
   "execution_count": 92,
   "id": "41965641",
   "metadata": {},
   "outputs": [
    {
     "data": {
      "text/plain": [
       "Text(0.5, 1.03, \"Distribution of Pokemon's Total Points\")"
      ]
     },
     "execution_count": 92,
     "metadata": {},
     "output_type": "execute_result"
    },
    {
     "data": {
      "image/png": "[encoded data removed]",
      "text/plain": [
       "<Figure size 432x288 with 1 Axes>"
      ]
     },
     "metadata": {},
     "output_type": "display_data"
    }
   ],
   "source": [
    "#displaying the distribution of scores \n",
    "plt.hist(pokemon_df.Total.dropna(), bins=5)\n",
    "plt.xlabel('Pokemon Total Points')\n",
    "plt.ylabel('Count')\n",
    "plt.title(\"Distribution of Pokemon's Total Points\", y=1.03)\n"
   ]
  },
  {
   "cell_type": "markdown",
   "id": "f61db8b3",
   "metadata": {},
   "source": [
    "From Pokemon's Total points Histogram plot we can conclude the following:\n",
    "1. Majority of the pokemons have total points of between 400-500.\n",
    "2. Approximately 25 pokemons have above 700 points and are in the leading table.\n",
    "3. Approximately 100 pokemon range in least total points if between 200-300"
   ]
  },
  {
   "cell_type": "markdown",
   "id": "69b03b22",
   "metadata": {},
   "source": [
    "#### Legendary Distribution\n"
   ]
  },
  {
   "cell_type": "code",
   "execution_count": 93,
   "id": "3773247b",
   "metadata": {},
   "outputs": [
    {
     "data": {
      "text/html": [
       "<div>\n",
       "<style scoped>\n",
       "    .dataframe tbody tr th:only-of-type {\n",
       "        vertical-align: middle;\n",
       "    }\n",
       "\n",
       "    .dataframe tbody tr th {\n",
       "        vertical-align: top;\n",
       "    }\n",
       "\n",
       "    .dataframe thead th {\n",
       "        text-align: right;\n",
       "    }\n",
       "</style>\n",
       "<table border=\"1\" class=\"dataframe\">\n",
       "  <thead>\n",
       "    <tr style=\"text-align: right;\">\n",
       "      <th></th>\n",
       "      <th>Legendary</th>\n",
       "      <th>counts</th>\n",
       "    </tr>\n",
       "  </thead>\n",
       "  <tbody>\n",
       "    <tr>\n",
       "      <th>0</th>\n",
       "      <td>False</td>\n",
       "      <td>735</td>\n",
       "    </tr>\n",
       "    <tr>\n",
       "      <th>1</th>\n",
       "      <td>True</td>\n",
       "      <td>65</td>\n",
       "    </tr>\n",
       "  </tbody>\n",
       "</table>\n",
       "</div>"
      ],
      "text/plain": [
       "   Legendary  counts\n",
       "0      False     735\n",
       "1       True      65"
      ]
     },
     "execution_count": 93,
     "metadata": {},
     "output_type": "execute_result"
    }
   ],
   "source": [
    "Pokemon_legendary=pokemon_df.groupby('Legendary').size().reset_index().rename(columns = {0:'counts'})\n",
    "Pokemon_legendary"
   ]
  },
  {
   "cell_type": "code",
   "execution_count": 94,
   "id": "6b29c6af",
   "metadata": {},
   "outputs": [
    {
     "data": {
      "text/plain": [
       "Text(0.5, 1.0, \"Distribution of Pokemons' Legendary\")"
      ]
     },
     "execution_count": 94,
     "metadata": {},
     "output_type": "execute_result"
    },
    {
     "data": {
      "image/png": "[encoded data removed]",
      "text/plain": [
       "<Figure size 432x288 with 1 Axes>"
      ]
     },
     "metadata": {},
     "output_type": "display_data"
    }
   ],
   "source": [
    "#Defining color palette\n",
    "palette_color=sns.color_palette('bright')\n",
    "\n",
    "#Displaying Legendary distribution\n",
    "Pokemon_legendary.groupby(['Legendary']).sum().plot(kind='pie', y='counts', autopct='%1.0f%%')\n",
    "plt.legend()\n",
    "plt.title(\"Distribution of Pokemons' Legendary\")"
   ]
  },
  {
   "cell_type": "markdown",
   "id": "955433b2",
   "metadata": {},
   "source": [
    "Insights from the pie chart above:\n",
    "1. We can see that 92% which represents 735 of the total 800 pokemons are not yet Legendary.\n",
    "2. Only 65 of the total pokemons' population are legendary represent 8% of the entire population.\n"
   ]
  },
  {
   "cell_type": "markdown",
   "id": "2cd9b301",
   "metadata": {},
   "source": [
    "#### Generation Distribution.\n"
   ]
  },
  {
   "cell_type": "code",
   "execution_count": 95,
   "id": "070dc62f",
   "metadata": {},
   "outputs": [
    {
     "data": {
      "text/html": [
       "<div>\n",
       "<style scoped>\n",
       "    .dataframe tbody tr th:only-of-type {\n",
       "        vertical-align: middle;\n",
       "    }\n",
       "\n",
       "    .dataframe tbody tr th {\n",
       "        vertical-align: top;\n",
       "    }\n",
       "\n",
       "    .dataframe thead th {\n",
       "        text-align: right;\n",
       "    }\n",
       "</style>\n",
       "<table border=\"1\" class=\"dataframe\">\n",
       "  <thead>\n",
       "    <tr style=\"text-align: right;\">\n",
       "      <th></th>\n",
       "      <th>Generation</th>\n",
       "      <th>counts</th>\n",
       "    </tr>\n",
       "  </thead>\n",
       "  <tbody>\n",
       "    <tr>\n",
       "      <th>0</th>\n",
       "      <td>1</td>\n",
       "      <td>166</td>\n",
       "    </tr>\n",
       "    <tr>\n",
       "      <th>1</th>\n",
       "      <td>2</td>\n",
       "      <td>106</td>\n",
       "    </tr>\n",
       "    <tr>\n",
       "      <th>2</th>\n",
       "      <td>3</td>\n",
       "      <td>160</td>\n",
       "    </tr>\n",
       "    <tr>\n",
       "      <th>3</th>\n",
       "      <td>4</td>\n",
       "      <td>121</td>\n",
       "    </tr>\n",
       "    <tr>\n",
       "      <th>4</th>\n",
       "      <td>5</td>\n",
       "      <td>165</td>\n",
       "    </tr>\n",
       "    <tr>\n",
       "      <th>5</th>\n",
       "      <td>6</td>\n",
       "      <td>82</td>\n",
       "    </tr>\n",
       "  </tbody>\n",
       "</table>\n",
       "</div>"
      ],
      "text/plain": [
       "   Generation  counts\n",
       "0           1     166\n",
       "1           2     106\n",
       "2           3     160\n",
       "3           4     121\n",
       "4           5     165\n",
       "5           6      82"
      ]
     },
     "execution_count": 95,
     "metadata": {},
     "output_type": "execute_result"
    }
   ],
   "source": [
    "Pokemon_generation=pokemon_df.groupby('Generation').size().reset_index().rename(columns = {0:'counts'})\n",
    "Pokemon_generation"
   ]
  },
  {
   "cell_type": "code",
   "execution_count": 96,
   "id": "965e9d70",
   "metadata": {},
   "outputs": [
    {
     "data": {
      "text/plain": [
       "Text(0.5, 1.03, \"Distribution of Pokemons' Generation\")"
      ]
     },
     "execution_count": 96,
     "metadata": {},
     "output_type": "execute_result"
    },
    {
     "data": {
      "image/png": "[encoded data removed]",
      "text/plain": [
       "<Figure size 432x288 with 1 Axes>"
      ]
     },
     "metadata": {},
     "output_type": "display_data"
    }
   ],
   "source": [
    "#Defining color palette\n",
    "palette_color=sns.color_palette('bright')\n",
    "\n",
    "#defining order of distribution\n",
    "type_order = pokemon_df.Generation.value_counts().sort_values(ascending=False).index\n",
    "\n",
    "#Pokemon_generation.groupby(['Generation']).sum().plot(kind='pie', y='counts', autopct='%1.0f%%')\n",
    "ax=sns.countplot(data=pokemon_df, x='Generation', order=type_order)\n",
    "plt.xlabel('Generation')\n",
    "plt.ylabel('Total')\n",
    "total = len(pokemon_df['Generation'])\n",
    "\n",
    "#calculating the representative percentages of the Pokemons' Generation Distribution.\n",
    "for p in ax.patches:\n",
    "        percentage = '{:.1f}%'.format(100 * p.get_height()/total)\n",
    "        x = p.get_x() + p.get_width() / 2 - 0.05\n",
    "        y = p.get_y() + p.get_height()\n",
    "        ax.annotate(percentage, (x, y), size = 12)\n",
    "\n",
    "plt.title(\"Distribution of Pokemons' Generation\", y=1.03)"
   ]
  },
  {
   "cell_type": "markdown",
   "id": "d876a7e2",
   "metadata": {},
   "source": [
    "From the Barchart we can conclude the following:\n",
    "1. Majority of the pokemons belong to the first generation and represent 20.8% of the population.\n",
    "2. 6th Generation has the least number of pokemons and represent 10.2% of the pokemons population."
   ]
  },
  {
   "cell_type": "markdown",
   "id": "90fda83d",
   "metadata": {},
   "source": [
    "### Inferential Analysis."
   ]
  },
  {
   "cell_type": "markdown",
   "id": "c9d02c79",
   "metadata": {},
   "source": [
    "#### Qn.1 What are the top 10 Pokemons as per Total points?"
   ]
  },
  {
   "cell_type": "code",
   "execution_count": 97,
   "id": "c1ebe837",
   "metadata": {},
   "outputs": [
    {
     "data": {
      "text/html": [
       "<div>\n",
       "<style scoped>\n",
       "    .dataframe tbody tr th:only-of-type {\n",
       "        vertical-align: middle;\n",
       "    }\n",
       "\n",
       "    .dataframe tbody tr th {\n",
       "        vertical-align: top;\n",
       "    }\n",
       "\n",
       "    .dataframe thead th {\n",
       "        text-align: right;\n",
       "    }\n",
       "</style>\n",
       "<table border=\"1\" class=\"dataframe\">\n",
       "  <thead>\n",
       "    <tr style=\"text-align: right;\">\n",
       "      <th></th>\n",
       "      <th>Species</th>\n",
       "      <th>Type_1</th>\n",
       "      <th>Type_2</th>\n",
       "      <th>Attack</th>\n",
       "      <th>Defense</th>\n",
       "      <th>Speed</th>\n",
       "      <th>Sp. Atk</th>\n",
       "      <th>Sp. Def</th>\n",
       "      <th>HP</th>\n",
       "      <th>Total</th>\n",
       "      <th>Generation</th>\n",
       "      <th>Legendary</th>\n",
       "      <th>Fast</th>\n",
       "    </tr>\n",
       "    <tr>\n",
       "      <th>#</th>\n",
       "      <th></th>\n",
       "      <th></th>\n",
       "      <th></th>\n",
       "      <th></th>\n",
       "      <th></th>\n",
       "      <th></th>\n",
       "      <th></th>\n",
       "      <th></th>\n",
       "      <th></th>\n",
       "      <th></th>\n",
       "      <th></th>\n",
       "      <th></th>\n",
       "      <th></th>\n",
       "    </tr>\n",
       "  </thead>\n",
       "  <tbody>\n",
       "    <tr>\n",
       "      <th>384</th>\n",
       "      <td>RayquazaMega Rayquaza</td>\n",
       "      <td>Dragon</td>\n",
       "      <td>Flying</td>\n",
       "      <td>180</td>\n",
       "      <td>100</td>\n",
       "      <td>115</td>\n",
       "      <td>180</td>\n",
       "      <td>100</td>\n",
       "      <td>105</td>\n",
       "      <td>780</td>\n",
       "      <td>3</td>\n",
       "      <td>True</td>\n",
       "      <td>False</td>\n",
       "    </tr>\n",
       "    <tr>\n",
       "      <th>150</th>\n",
       "      <td>MewtwoMega Mewtwo Y</td>\n",
       "      <td>Psychic</td>\n",
       "      <td>N/A</td>\n",
       "      <td>150</td>\n",
       "      <td>70</td>\n",
       "      <td>140</td>\n",
       "      <td>194</td>\n",
       "      <td>120</td>\n",
       "      <td>106</td>\n",
       "      <td>780</td>\n",
       "      <td>1</td>\n",
       "      <td>True</td>\n",
       "      <td>True</td>\n",
       "    </tr>\n",
       "    <tr>\n",
       "      <th>150</th>\n",
       "      <td>MewtwoMega Mewtwo X</td>\n",
       "      <td>Psychic</td>\n",
       "      <td>Fighting</td>\n",
       "      <td>190</td>\n",
       "      <td>100</td>\n",
       "      <td>130</td>\n",
       "      <td>154</td>\n",
       "      <td>100</td>\n",
       "      <td>106</td>\n",
       "      <td>780</td>\n",
       "      <td>1</td>\n",
       "      <td>True</td>\n",
       "      <td>True</td>\n",
       "    </tr>\n",
       "    <tr>\n",
       "      <th>382</th>\n",
       "      <td>KyogrePrimal Kyogre</td>\n",
       "      <td>Water</td>\n",
       "      <td>N/A</td>\n",
       "      <td>150</td>\n",
       "      <td>90</td>\n",
       "      <td>90</td>\n",
       "      <td>180</td>\n",
       "      <td>160</td>\n",
       "      <td>100</td>\n",
       "      <td>770</td>\n",
       "      <td>3</td>\n",
       "      <td>True</td>\n",
       "      <td>False</td>\n",
       "    </tr>\n",
       "    <tr>\n",
       "      <th>383</th>\n",
       "      <td>GroudonPrimal Groudon</td>\n",
       "      <td>Ground</td>\n",
       "      <td>Fire</td>\n",
       "      <td>180</td>\n",
       "      <td>160</td>\n",
       "      <td>90</td>\n",
       "      <td>150</td>\n",
       "      <td>90</td>\n",
       "      <td>100</td>\n",
       "      <td>770</td>\n",
       "      <td>3</td>\n",
       "      <td>True</td>\n",
       "      <td>False</td>\n",
       "    </tr>\n",
       "    <tr>\n",
       "      <th>493</th>\n",
       "      <td>Arceus</td>\n",
       "      <td>Normal</td>\n",
       "      <td>N/A</td>\n",
       "      <td>120</td>\n",
       "      <td>120</td>\n",
       "      <td>120</td>\n",
       "      <td>120</td>\n",
       "      <td>120</td>\n",
       "      <td>120</td>\n",
       "      <td>720</td>\n",
       "      <td>4</td>\n",
       "      <td>True</td>\n",
       "      <td>False</td>\n",
       "    </tr>\n",
       "    <tr>\n",
       "      <th>646</th>\n",
       "      <td>KyuremWhite Kyurem</td>\n",
       "      <td>Dragon</td>\n",
       "      <td>Ice</td>\n",
       "      <td>120</td>\n",
       "      <td>90</td>\n",
       "      <td>95</td>\n",
       "      <td>170</td>\n",
       "      <td>100</td>\n",
       "      <td>125</td>\n",
       "      <td>700</td>\n",
       "      <td>5</td>\n",
       "      <td>True</td>\n",
       "      <td>False</td>\n",
       "    </tr>\n",
       "    <tr>\n",
       "      <th>646</th>\n",
       "      <td>KyuremBlack Kyurem</td>\n",
       "      <td>Dragon</td>\n",
       "      <td>Ice</td>\n",
       "      <td>170</td>\n",
       "      <td>100</td>\n",
       "      <td>95</td>\n",
       "      <td>120</td>\n",
       "      <td>90</td>\n",
       "      <td>125</td>\n",
       "      <td>700</td>\n",
       "      <td>5</td>\n",
       "      <td>True</td>\n",
       "      <td>False</td>\n",
       "    </tr>\n",
       "    <tr>\n",
       "      <th>373</th>\n",
       "      <td>SalamenceMega Salamence</td>\n",
       "      <td>Dragon</td>\n",
       "      <td>Flying</td>\n",
       "      <td>145</td>\n",
       "      <td>130</td>\n",
       "      <td>120</td>\n",
       "      <td>120</td>\n",
       "      <td>90</td>\n",
       "      <td>95</td>\n",
       "      <td>700</td>\n",
       "      <td>3</td>\n",
       "      <td>False</td>\n",
       "      <td>False</td>\n",
       "    </tr>\n",
       "    <tr>\n",
       "      <th>376</th>\n",
       "      <td>MetagrossMega Metagross</td>\n",
       "      <td>Steel</td>\n",
       "      <td>Psychic</td>\n",
       "      <td>145</td>\n",
       "      <td>150</td>\n",
       "      <td>110</td>\n",
       "      <td>105</td>\n",
       "      <td>110</td>\n",
       "      <td>80</td>\n",
       "      <td>700</td>\n",
       "      <td>3</td>\n",
       "      <td>False</td>\n",
       "      <td>False</td>\n",
       "    </tr>\n",
       "  </tbody>\n",
       "</table>\n",
       "</div>"
      ],
      "text/plain": [
       "                     Species   Type_1    Type_2  Attack  Defense  Speed  \\\n",
       "#                                                                         \n",
       "384    RayquazaMega Rayquaza   Dragon    Flying     180      100    115   \n",
       "150      MewtwoMega Mewtwo Y  Psychic       N/A     150       70    140   \n",
       "150      MewtwoMega Mewtwo X  Psychic  Fighting     190      100    130   \n",
       "382      KyogrePrimal Kyogre    Water       N/A     150       90     90   \n",
       "383    GroudonPrimal Groudon   Ground      Fire     180      160     90   \n",
       "493                   Arceus   Normal       N/A     120      120    120   \n",
       "646       KyuremWhite Kyurem   Dragon       Ice     120       90     95   \n",
       "646       KyuremBlack Kyurem   Dragon       Ice     170      100     95   \n",
       "373  SalamenceMega Salamence   Dragon    Flying     145      130    120   \n",
       "376  MetagrossMega Metagross    Steel   Psychic     145      150    110   \n",
       "\n",
       "     Sp. Atk  Sp. Def   HP  Total  Generation  Legendary   Fast  \n",
       "#                                                                \n",
       "384      180      100  105    780           3       True  False  \n",
       "150      194      120  106    780           1       True   True  \n",
       "150      154      100  106    780           1       True   True  \n",
       "382      180      160  100    770           3       True  False  \n",
       "383      150       90  100    770           3       True  False  \n",
       "493      120      120  120    720           4       True  False  \n",
       "646      170      100  125    700           5       True  False  \n",
       "646      120       90  125    700           5       True  False  \n",
       "373      120       90   95    700           3      False  False  \n",
       "376      105      110   80    700           3      False  False  "
      ]
     },
     "execution_count": 97,
     "metadata": {},
     "output_type": "execute_result"
    }
   ],
   "source": [
    "#displaying top 10 species with highest total points\n",
    "\n",
    "Top_10_Pokemon=pokemon_df.sort_values('Total', ascending=False).head(10)\n",
    "\n",
    "Top_10_Pokemon"
   ]
  },
  {
   "cell_type": "markdown",
   "id": "076d636f",
   "metadata": {},
   "source": [
    "- Overall view of the top 10 pokemons\n",
    " 1. The tope pokemon has 780 points.\n",
    " 2. Majority of the pokemons are legendary.\n",
    " 3. Majority of the pokemon are not fast that is their speed do not the 120.\n",
    " 4. Majority of the pokemons belong to the 3rd generation.\n",
    " 5. Judging from the type Most top 10 belong to type 1 species."
   ]
  },
  {
   "cell_type": "markdown",
   "id": "1f29a8cd",
   "metadata": {},
   "source": [
    "#### Qn.2 What is the correlation between defense and attack, Sp Attack and Sp. Defense?."
   ]
  },
  {
   "cell_type": "code",
   "execution_count": 98,
   "id": "1f3e6e6e",
   "metadata": {},
   "outputs": [
    {
     "data": {
      "image/png": "[encoded data removed]",
      "text/plain": [
       "<Figure size 720x360 with 2 Axes>"
      ]
     },
     "metadata": {},
     "output_type": "display_data"
    }
   ],
   "source": [
    "#defining the figure size.\n",
    "plt.figure(figsize=(10,5))\n",
    "\n",
    "plt.subplot(1, 2, 1);\n",
    "sns.regplot(data=pokemon_df, y='Attack',x='Defense')\n",
    "plt.title('Correlation of Attack and Defense')\n",
    "\n",
    "# Activate the middle subplot\n",
    "plt.subplot(1, 2, 2);\n",
    "sns.regplot(data=pokemon_df, y='Sp. Def', x='Sp. Atk')\n",
    "plt.title('Correlation of Sp Defense and Sp Attack')\n",
    "\n",
    "# Improve the spacing between subplots\n",
    "plt.tight_layout()"
   ]
  },
  {
   "cell_type": "markdown",
   "id": "0d661beb",
   "metadata": {},
   "source": [
    "Interpretation of the regression plots above:\n",
    "1. Defense and attack regression plots indicate that majority of the pokemon have points ranging between 50-100, hence proving that the Atk/defense ratio is around 1.This is a similar case when it comes to Sp.Atk and Sp.defense regression plots.\n"
   ]
  },
  {
   "cell_type": "markdown",
   "id": "828024c5",
   "metadata": {},
   "source": [
    "#### Qn.3 What is the comparison Attack / Defense ratio of the entire dataset and the top 10 pokemons?"
   ]
  },
  {
   "cell_type": "code",
   "execution_count": 99,
   "id": "99c979b9",
   "metadata": {},
   "outputs": [
    {
     "data": {
      "text/html": [
       "<div>\n",
       "<style scoped>\n",
       "    .dataframe tbody tr th:only-of-type {\n",
       "        vertical-align: middle;\n",
       "    }\n",
       "\n",
       "    .dataframe tbody tr th {\n",
       "        vertical-align: top;\n",
       "    }\n",
       "\n",
       "    .dataframe thead th {\n",
       "        text-align: right;\n",
       "    }\n",
       "</style>\n",
       "<table border=\"1\" class=\"dataframe\">\n",
       "  <thead>\n",
       "    <tr style=\"text-align: right;\">\n",
       "      <th></th>\n",
       "      <th>Species</th>\n",
       "      <th>Type_1</th>\n",
       "      <th>Type_2</th>\n",
       "      <th>Attack</th>\n",
       "      <th>Defense</th>\n",
       "      <th>Speed</th>\n",
       "      <th>Sp. Atk</th>\n",
       "      <th>Sp. Def</th>\n",
       "      <th>HP</th>\n",
       "      <th>Total</th>\n",
       "      <th>Generation</th>\n",
       "      <th>Legendary</th>\n",
       "      <th>Fast</th>\n",
       "      <th>Atk. / Def.</th>\n",
       "    </tr>\n",
       "    <tr>\n",
       "      <th>#</th>\n",
       "      <th></th>\n",
       "      <th></th>\n",
       "      <th></th>\n",
       "      <th></th>\n",
       "      <th></th>\n",
       "      <th></th>\n",
       "      <th></th>\n",
       "      <th></th>\n",
       "      <th></th>\n",
       "      <th></th>\n",
       "      <th></th>\n",
       "      <th></th>\n",
       "      <th></th>\n",
       "      <th></th>\n",
       "    </tr>\n",
       "  </thead>\n",
       "  <tbody>\n",
       "    <tr>\n",
       "      <th>386</th>\n",
       "      <td>DeoxysAttack Forme</td>\n",
       "      <td>Psychic</td>\n",
       "      <td>N/A</td>\n",
       "      <td>180</td>\n",
       "      <td>20</td>\n",
       "      <td>150</td>\n",
       "      <td>180</td>\n",
       "      <td>20</td>\n",
       "      <td>50</td>\n",
       "      <td>600</td>\n",
       "      <td>3</td>\n",
       "      <td>True</td>\n",
       "      <td>True</td>\n",
       "      <td>9.000</td>\n",
       "    </tr>\n",
       "    <tr>\n",
       "      <th>318</th>\n",
       "      <td>Carvanha</td>\n",
       "      <td>Water</td>\n",
       "      <td>Dark</td>\n",
       "      <td>90</td>\n",
       "      <td>20</td>\n",
       "      <td>65</td>\n",
       "      <td>65</td>\n",
       "      <td>20</td>\n",
       "      <td>45</td>\n",
       "      <td>305</td>\n",
       "      <td>3</td>\n",
       "      <td>False</td>\n",
       "      <td>False</td>\n",
       "      <td>4.500</td>\n",
       "    </tr>\n",
       "    <tr>\n",
       "      <th>15</th>\n",
       "      <td>BeedrillMega Beedrill</td>\n",
       "      <td>Bug</td>\n",
       "      <td>Poison</td>\n",
       "      <td>150</td>\n",
       "      <td>40</td>\n",
       "      <td>145</td>\n",
       "      <td>15</td>\n",
       "      <td>80</td>\n",
       "      <td>65</td>\n",
       "      <td>495</td>\n",
       "      <td>1</td>\n",
       "      <td>False</td>\n",
       "      <td>True</td>\n",
       "      <td>3.750</td>\n",
       "    </tr>\n",
       "    <tr>\n",
       "      <th>408</th>\n",
       "      <td>Cranidos</td>\n",
       "      <td>Rock</td>\n",
       "      <td>N/A</td>\n",
       "      <td>125</td>\n",
       "      <td>40</td>\n",
       "      <td>58</td>\n",
       "      <td>30</td>\n",
       "      <td>30</td>\n",
       "      <td>67</td>\n",
       "      <td>350</td>\n",
       "      <td>4</td>\n",
       "      <td>False</td>\n",
       "      <td>False</td>\n",
       "      <td>3.125</td>\n",
       "    </tr>\n",
       "    <tr>\n",
       "      <th>319</th>\n",
       "      <td>Sharpedo</td>\n",
       "      <td>Water</td>\n",
       "      <td>Dark</td>\n",
       "      <td>120</td>\n",
       "      <td>40</td>\n",
       "      <td>95</td>\n",
       "      <td>95</td>\n",
       "      <td>40</td>\n",
       "      <td>70</td>\n",
       "      <td>460</td>\n",
       "      <td>3</td>\n",
       "      <td>False</td>\n",
       "      <td>False</td>\n",
       "      <td>3.000</td>\n",
       "    </tr>\n",
       "  </tbody>\n",
       "</table>\n",
       "</div>"
      ],
      "text/plain": [
       "                   Species   Type_1  Type_2  Attack  Defense  Speed  Sp. Atk  \\\n",
       "#                                                                              \n",
       "386     DeoxysAttack Forme  Psychic     N/A     180       20    150      180   \n",
       "318               Carvanha    Water    Dark      90       20     65       65   \n",
       "15   BeedrillMega Beedrill      Bug  Poison     150       40    145       15   \n",
       "408               Cranidos     Rock     N/A     125       40     58       30   \n",
       "319               Sharpedo    Water    Dark     120       40     95       95   \n",
       "\n",
       "     Sp. Def  HP  Total  Generation  Legendary   Fast  Atk. / Def.  \n",
       "#                                                                   \n",
       "386       20  50    600           3       True   True        9.000  \n",
       "318       20  45    305           3      False  False        4.500  \n",
       "15        80  65    495           1      False   True        3.750  \n",
       "408       30  67    350           4      False  False        3.125  \n",
       "319       40  70    460           3      False  False        3.000  "
      ]
     },
     "execution_count": 99,
     "metadata": {},
     "output_type": "execute_result"
    }
   ],
   "source": [
    "#calculating the Attack/Defense ratio of the entire 800 pokemon population\n",
    "pokemon_df['Atk. / Def.'] = pokemon_df.Attack / pokemon_df.Defense\n",
    "\n",
    "\n",
    "#sorting the df max atk/dfs ratio\n",
    "pokemon_df= pokemon_df.sort_values('Atk. / Def.',ascending = False)\n",
    "\n",
    "#reindexing the columns\n",
    "pokemon_df.reindex(columns=['Species', 'Type_1', 'Type_2', 'HP', 'Attack', 'Defense',\n",
    "       'Sp. Atk', 'Sp. Def', 'Speed', 'Total','Atk. / Def.', 'Fast','Generation', 'Legendary'])\n",
    "\n",
    "#displaying top 5 of the entire dataset\n",
    "pokemon_df.head(5)\n"
   ]
  },
  {
   "cell_type": "code",
   "execution_count": 100,
   "id": "94b5f7d9",
   "metadata": {},
   "outputs": [
    {
     "data": {
      "text/plain": [
       "1.1645466088751784"
      ]
     },
     "metadata": {},
     "output_type": "display_data"
    },
    {
     "data": {
      "text/plain": [
       "0.043478260869565216"
      ]
     },
     "metadata": {},
     "output_type": "display_data"
    },
    {
     "data": {
      "text/plain": [
       "9.0"
      ]
     },
     "metadata": {},
     "output_type": "display_data"
    },
    {
     "data": {
      "text/plain": [
       "0.5526044976174339"
      ]
     },
     "metadata": {},
     "output_type": "display_data"
    }
   ],
   "source": [
    "#displaying mean, minimum, maximum and standard deviation of Atk/ Def ratio\n",
    "display(pokemon_df['Atk. / Def.'].mean())\n",
    "display(pokemon_df['Atk. / Def.'].min())\n",
    "display(pokemon_df['Atk. / Def.'].max())\n",
    "display(pokemon_df['Atk. / Def.'].std())\n"
   ]
  },
  {
   "cell_type": "markdown",
   "id": "b2def790",
   "metadata": {},
   "source": [
    "#### Calculating the  Attack- defense ratio of the Top_10_ Pokemon"
   ]
  },
  {
   "cell_type": "code",
   "execution_count": 101,
   "id": "75c73953",
   "metadata": {},
   "outputs": [
    {
     "data": {
      "text/html": [
       "<div>\n",
       "<style scoped>\n",
       "    .dataframe tbody tr th:only-of-type {\n",
       "        vertical-align: middle;\n",
       "    }\n",
       "\n",
       "    .dataframe tbody tr th {\n",
       "        vertical-align: top;\n",
       "    }\n",
       "\n",
       "    .dataframe thead th {\n",
       "        text-align: right;\n",
       "    }\n",
       "</style>\n",
       "<table border=\"1\" class=\"dataframe\">\n",
       "  <thead>\n",
       "    <tr style=\"text-align: right;\">\n",
       "      <th></th>\n",
       "      <th>Species</th>\n",
       "      <th>Type_1</th>\n",
       "      <th>Type_2</th>\n",
       "      <th>Attack</th>\n",
       "      <th>Defense</th>\n",
       "      <th>Speed</th>\n",
       "      <th>Sp. Atk</th>\n",
       "      <th>Sp. Def</th>\n",
       "      <th>HP</th>\n",
       "      <th>Total</th>\n",
       "      <th>Generation</th>\n",
       "      <th>Legendary</th>\n",
       "      <th>Fast</th>\n",
       "      <th>Atk. / Def.</th>\n",
       "    </tr>\n",
       "    <tr>\n",
       "      <th>#</th>\n",
       "      <th></th>\n",
       "      <th></th>\n",
       "      <th></th>\n",
       "      <th></th>\n",
       "      <th></th>\n",
       "      <th></th>\n",
       "      <th></th>\n",
       "      <th></th>\n",
       "      <th></th>\n",
       "      <th></th>\n",
       "      <th></th>\n",
       "      <th></th>\n",
       "      <th></th>\n",
       "      <th></th>\n",
       "    </tr>\n",
       "  </thead>\n",
       "  <tbody>\n",
       "    <tr>\n",
       "      <th>150</th>\n",
       "      <td>MewtwoMega Mewtwo Y</td>\n",
       "      <td>Psychic</td>\n",
       "      <td>N/A</td>\n",
       "      <td>150</td>\n",
       "      <td>70</td>\n",
       "      <td>140</td>\n",
       "      <td>194</td>\n",
       "      <td>120</td>\n",
       "      <td>106</td>\n",
       "      <td>780</td>\n",
       "      <td>1</td>\n",
       "      <td>True</td>\n",
       "      <td>True</td>\n",
       "      <td>2.142857</td>\n",
       "    </tr>\n",
       "    <tr>\n",
       "      <th>150</th>\n",
       "      <td>MewtwoMega Mewtwo X</td>\n",
       "      <td>Psychic</td>\n",
       "      <td>Fighting</td>\n",
       "      <td>190</td>\n",
       "      <td>100</td>\n",
       "      <td>130</td>\n",
       "      <td>154</td>\n",
       "      <td>100</td>\n",
       "      <td>106</td>\n",
       "      <td>780</td>\n",
       "      <td>1</td>\n",
       "      <td>True</td>\n",
       "      <td>True</td>\n",
       "      <td>1.900000</td>\n",
       "    </tr>\n",
       "    <tr>\n",
       "      <th>384</th>\n",
       "      <td>RayquazaMega Rayquaza</td>\n",
       "      <td>Dragon</td>\n",
       "      <td>Flying</td>\n",
       "      <td>180</td>\n",
       "      <td>100</td>\n",
       "      <td>115</td>\n",
       "      <td>180</td>\n",
       "      <td>100</td>\n",
       "      <td>105</td>\n",
       "      <td>780</td>\n",
       "      <td>3</td>\n",
       "      <td>True</td>\n",
       "      <td>False</td>\n",
       "      <td>1.800000</td>\n",
       "    </tr>\n",
       "    <tr>\n",
       "      <th>646</th>\n",
       "      <td>KyuremBlack Kyurem</td>\n",
       "      <td>Dragon</td>\n",
       "      <td>Ice</td>\n",
       "      <td>170</td>\n",
       "      <td>100</td>\n",
       "      <td>95</td>\n",
       "      <td>120</td>\n",
       "      <td>90</td>\n",
       "      <td>125</td>\n",
       "      <td>700</td>\n",
       "      <td>5</td>\n",
       "      <td>True</td>\n",
       "      <td>False</td>\n",
       "      <td>1.700000</td>\n",
       "    </tr>\n",
       "    <tr>\n",
       "      <th>382</th>\n",
       "      <td>KyogrePrimal Kyogre</td>\n",
       "      <td>Water</td>\n",
       "      <td>N/A</td>\n",
       "      <td>150</td>\n",
       "      <td>90</td>\n",
       "      <td>90</td>\n",
       "      <td>180</td>\n",
       "      <td>160</td>\n",
       "      <td>100</td>\n",
       "      <td>770</td>\n",
       "      <td>3</td>\n",
       "      <td>True</td>\n",
       "      <td>False</td>\n",
       "      <td>1.666667</td>\n",
       "    </tr>\n",
       "  </tbody>\n",
       "</table>\n",
       "</div>"
      ],
      "text/plain": [
       "                   Species   Type_1    Type_2  Attack  Defense  Speed  \\\n",
       "#                                                                       \n",
       "150    MewtwoMega Mewtwo Y  Psychic       N/A     150       70    140   \n",
       "150    MewtwoMega Mewtwo X  Psychic  Fighting     190      100    130   \n",
       "384  RayquazaMega Rayquaza   Dragon    Flying     180      100    115   \n",
       "646     KyuremBlack Kyurem   Dragon       Ice     170      100     95   \n",
       "382    KyogrePrimal Kyogre    Water       N/A     150       90     90   \n",
       "\n",
       "     Sp. Atk  Sp. Def   HP  Total  Generation  Legendary   Fast  Atk. / Def.  \n",
       "#                                                                             \n",
       "150      194      120  106    780           1       True   True     2.142857  \n",
       "150      154      100  106    780           1       True   True     1.900000  \n",
       "384      180      100  105    780           3       True  False     1.800000  \n",
       "646      120       90  125    700           5       True  False     1.700000  \n",
       "382      180      160  100    770           3       True  False     1.666667  "
      ]
     },
     "execution_count": 101,
     "metadata": {},
     "output_type": "execute_result"
    }
   ],
   "source": [
    "#calculating the Attack/Defense ratio of the top 10 pokemon\n",
    "Top_10_Pokemon['Atk. / Def.'] = Top_10_Pokemon.Attack / Top_10_Pokemon.Defense\n",
    "\n",
    "#reindexing the columns\n",
    "Top_10_Pokemon.reindex(columns=['Species', 'Type_1', 'Type_2', 'HP', 'Attack', 'Defense',\n",
    "       'Sp. Atk', 'Sp. Def', 'Speed', 'Total','Atk. / Def.', 'Fast','Generation', 'Legendary'])\n",
    "Top_10_Pokemon=Top_10_Pokemon.sort_values('Atk. / Def.',ascending = False)\n",
    "\n",
    "Top_10_Pokemon.head(5)"
   ]
  },
  {
   "cell_type": "code",
   "execution_count": 102,
   "id": "81a1bd17",
   "metadata": {},
   "outputs": [
    {
     "data": {
      "text/plain": [
       "1.4749908424908424"
      ]
     },
     "metadata": {},
     "output_type": "display_data"
    },
    {
     "data": {
      "text/plain": [
       "0.9666666666666667"
      ]
     },
     "metadata": {},
     "output_type": "display_data"
    },
    {
     "data": {
      "text/plain": [
       "2.142857142857143"
      ]
     },
     "metadata": {},
     "output_type": "display_data"
    },
    {
     "data": {
      "text/plain": [
       "0.4184050032381054"
      ]
     },
     "metadata": {},
     "output_type": "display_data"
    }
   ],
   "source": [
    "#displaying mean, max and minimum value of Atk/ Def ratio\n",
    "display(Top_10_Pokemon['Atk. / Def.'].mean())\n",
    "display(Top_10_Pokemon['Atk. / Def.'].min())\n",
    "display(Top_10_Pokemon['Atk. / Def.'].max())\n",
    "display(Top_10_Pokemon['Atk. / Def.'].std())\n"
   ]
  },
  {
   "cell_type": "code",
   "execution_count": 103,
   "id": "b0ef0a41",
   "metadata": {},
   "outputs": [
    {
     "data": {
      "image/png": "[encoded data removed]",
      "text/plain": [
       "<Figure size 720x720 with 1 Axes>"
      ]
     },
     "metadata": {},
     "output_type": "display_data"
    }
   ],
   "source": [
    "#displaying the species with maximum attack ratio\n",
    "plt.figure(figsize=(10,10));\n",
    "sns.barplot(y='Species', x='Atk. / Def.', data=Top_10_Pokemon);\n",
    "plt.ylabel('Species of Pokemon');\n"
   ]
  },
  {
   "cell_type": "markdown",
   "id": "34a700e6",
   "metadata": {},
   "source": [
    "- Insights:\n",
    " 1. Both dataframes indicate a low Standard deviation showing the values are closely conentrated towards the mean.\n",
    " 2. Despite the above obeservation, we can aslo see the difference in ranges of values as the entire pokemons Atk/def ratio are spread out between 0 which is the minimum value and 9 which the max value.\n",
    " 3. On the other hand, the top 10 pokemon Atk/ def range are closely concentrated between 0.9 which is min value and 2.1 which is max value. \n",
    " 4. MewtwoMega Mewtwo Y is the pokemon with highest atk/def ratio and has total point of 780 which is the highest in the table.\n",
    " "
   ]
  },
  {
   "cell_type": "markdown",
   "id": "9b8a1dfc",
   "metadata": {},
   "source": [
    "#### Qn. 4 Which are the Top 10 pokemon (having highest Total) with Attack > 100, Defense > 100, HP > 50 and  are Legendary ?"
   ]
  },
  {
   "cell_type": "code",
   "execution_count": 104,
   "id": "f41a8a38",
   "metadata": {},
   "outputs": [
    {
     "data": {
      "text/html": [
       "<div>\n",
       "<style scoped>\n",
       "    .dataframe tbody tr th:only-of-type {\n",
       "        vertical-align: middle;\n",
       "    }\n",
       "\n",
       "    .dataframe tbody tr th {\n",
       "        vertical-align: top;\n",
       "    }\n",
       "\n",
       "    .dataframe thead th {\n",
       "        text-align: right;\n",
       "    }\n",
       "</style>\n",
       "<table border=\"1\" class=\"dataframe\">\n",
       "  <thead>\n",
       "    <tr style=\"text-align: right;\">\n",
       "      <th></th>\n",
       "      <th>Species</th>\n",
       "      <th>Type_1</th>\n",
       "      <th>Type_2</th>\n",
       "      <th>Attack</th>\n",
       "      <th>Defense</th>\n",
       "      <th>Speed</th>\n",
       "      <th>Sp. Atk</th>\n",
       "      <th>Sp. Def</th>\n",
       "      <th>HP</th>\n",
       "      <th>Total</th>\n",
       "      <th>Generation</th>\n",
       "      <th>Legendary</th>\n",
       "      <th>Fast</th>\n",
       "      <th>Atk. / Def.</th>\n",
       "    </tr>\n",
       "    <tr>\n",
       "      <th>#</th>\n",
       "      <th></th>\n",
       "      <th></th>\n",
       "      <th></th>\n",
       "      <th></th>\n",
       "      <th></th>\n",
       "      <th></th>\n",
       "      <th></th>\n",
       "      <th></th>\n",
       "      <th></th>\n",
       "      <th></th>\n",
       "      <th></th>\n",
       "      <th></th>\n",
       "      <th></th>\n",
       "      <th></th>\n",
       "    </tr>\n",
       "  </thead>\n",
       "  <tbody>\n",
       "    <tr>\n",
       "      <th>383</th>\n",
       "      <td>GroudonPrimal Groudon</td>\n",
       "      <td>Ground</td>\n",
       "      <td>Fire</td>\n",
       "      <td>180</td>\n",
       "      <td>160</td>\n",
       "      <td>90</td>\n",
       "      <td>150</td>\n",
       "      <td>90</td>\n",
       "      <td>100</td>\n",
       "      <td>770</td>\n",
       "      <td>3</td>\n",
       "      <td>True</td>\n",
       "      <td>False</td>\n",
       "      <td>1.125000</td>\n",
       "    </tr>\n",
       "    <tr>\n",
       "      <th>493</th>\n",
       "      <td>Arceus</td>\n",
       "      <td>Normal</td>\n",
       "      <td>N/A</td>\n",
       "      <td>120</td>\n",
       "      <td>120</td>\n",
       "      <td>120</td>\n",
       "      <td>120</td>\n",
       "      <td>120</td>\n",
       "      <td>120</td>\n",
       "      <td>720</td>\n",
       "      <td>4</td>\n",
       "      <td>True</td>\n",
       "      <td>False</td>\n",
       "      <td>1.000000</td>\n",
       "    </tr>\n",
       "    <tr>\n",
       "      <th>644</th>\n",
       "      <td>Zekrom</td>\n",
       "      <td>Dragon</td>\n",
       "      <td>Electric</td>\n",
       "      <td>150</td>\n",
       "      <td>120</td>\n",
       "      <td>90</td>\n",
       "      <td>120</td>\n",
       "      <td>100</td>\n",
       "      <td>100</td>\n",
       "      <td>680</td>\n",
       "      <td>5</td>\n",
       "      <td>True</td>\n",
       "      <td>False</td>\n",
       "      <td>1.250000</td>\n",
       "    </tr>\n",
       "    <tr>\n",
       "      <th>483</th>\n",
       "      <td>Dialga</td>\n",
       "      <td>Steel</td>\n",
       "      <td>Dragon</td>\n",
       "      <td>120</td>\n",
       "      <td>120</td>\n",
       "      <td>90</td>\n",
       "      <td>150</td>\n",
       "      <td>100</td>\n",
       "      <td>100</td>\n",
       "      <td>680</td>\n",
       "      <td>4</td>\n",
       "      <td>True</td>\n",
       "      <td>False</td>\n",
       "      <td>1.000000</td>\n",
       "    </tr>\n",
       "    <tr>\n",
       "      <th>486</th>\n",
       "      <td>Regigigas</td>\n",
       "      <td>Normal</td>\n",
       "      <td>N/A</td>\n",
       "      <td>160</td>\n",
       "      <td>110</td>\n",
       "      <td>100</td>\n",
       "      <td>80</td>\n",
       "      <td>110</td>\n",
       "      <td>110</td>\n",
       "      <td>670</td>\n",
       "      <td>4</td>\n",
       "      <td>True</td>\n",
       "      <td>False</td>\n",
       "      <td>1.454545</td>\n",
       "    </tr>\n",
       "    <tr>\n",
       "      <th>383</th>\n",
       "      <td>Groudon</td>\n",
       "      <td>Ground</td>\n",
       "      <td>N/A</td>\n",
       "      <td>150</td>\n",
       "      <td>140</td>\n",
       "      <td>90</td>\n",
       "      <td>100</td>\n",
       "      <td>90</td>\n",
       "      <td>100</td>\n",
       "      <td>670</td>\n",
       "      <td>3</td>\n",
       "      <td>True</td>\n",
       "      <td>False</td>\n",
       "      <td>1.071429</td>\n",
       "    </tr>\n",
       "    <tr>\n",
       "      <th>721</th>\n",
       "      <td>Volcanion</td>\n",
       "      <td>Fire</td>\n",
       "      <td>Water</td>\n",
       "      <td>110</td>\n",
       "      <td>120</td>\n",
       "      <td>70</td>\n",
       "      <td>130</td>\n",
       "      <td>90</td>\n",
       "      <td>80</td>\n",
       "      <td>600</td>\n",
       "      <td>6</td>\n",
       "      <td>True</td>\n",
       "      <td>False</td>\n",
       "      <td>0.916667</td>\n",
       "    </tr>\n",
       "    <tr>\n",
       "      <th>481</th>\n",
       "      <td>Mesprit</td>\n",
       "      <td>Psychic</td>\n",
       "      <td>N/A</td>\n",
       "      <td>105</td>\n",
       "      <td>105</td>\n",
       "      <td>80</td>\n",
       "      <td>105</td>\n",
       "      <td>105</td>\n",
       "      <td>80</td>\n",
       "      <td>580</td>\n",
       "      <td>4</td>\n",
       "      <td>True</td>\n",
       "      <td>False</td>\n",
       "      <td>1.000000</td>\n",
       "    </tr>\n",
       "  </tbody>\n",
       "</table>\n",
       "</div>"
      ],
      "text/plain": [
       "                   Species   Type_1    Type_2  Attack  Defense  Speed  \\\n",
       "#                                                                       \n",
       "383  GroudonPrimal Groudon   Ground      Fire     180      160     90   \n",
       "493                 Arceus   Normal       N/A     120      120    120   \n",
       "644                 Zekrom   Dragon  Electric     150      120     90   \n",
       "483                 Dialga    Steel    Dragon     120      120     90   \n",
       "486              Regigigas   Normal       N/A     160      110    100   \n",
       "383                Groudon   Ground       N/A     150      140     90   \n",
       "721              Volcanion     Fire     Water     110      120     70   \n",
       "481                Mesprit  Psychic       N/A     105      105     80   \n",
       "\n",
       "     Sp. Atk  Sp. Def   HP  Total  Generation  Legendary   Fast  Atk. / Def.  \n",
       "#                                                                             \n",
       "383      150       90  100    770           3       True  False     1.125000  \n",
       "493      120      120  120    720           4       True  False     1.000000  \n",
       "644      120      100  100    680           5       True  False     1.250000  \n",
       "483      150      100  100    680           4       True  False     1.000000  \n",
       "486       80      110  110    670           4       True  False     1.454545  \n",
       "383      100       90  100    670           3       True  False     1.071429  \n",
       "721      130       90   80    600           6       True  False     0.916667  \n",
       "481      105      105   80    580           4       True  False     1.000000  "
      ]
     },
     "execution_count": 104,
     "metadata": {},
     "output_type": "execute_result"
    }
   ],
   "source": [
    "#filtering the dataset as per the requirements stated in the question\n",
    "Legendary_table = pokemon_df[pokemon_df.Legendary == True]\n",
    "Legendary_table = Legendary_table[Legendary_table['Attack'] > 100]\n",
    "Legendary_table = Legendary_table[Legendary_table['Defense'] > 100]\n",
    "Legendary_table = Legendary_table[Legendary_table['HP'] > 50]\n",
    "\n",
    "#sorting the record to start with pokemon with highest Total points\n",
    "Legendary_table.sort_values('Total',ascending=False).head(10)\n"
   ]
  },
  {
   "cell_type": "code",
   "execution_count": 105,
   "id": "fbb2d5b3",
   "metadata": {},
   "outputs": [
    {
     "data": {
      "image/png": "[encoded data removed]",
      "text/plain": [
       "<Figure size 720x360 with 1 Axes>"
      ]
     },
     "metadata": {},
     "output_type": "display_data"
    }
   ],
   "source": [
    "#Defining color palette\n",
    "plt.figure(figsize=(10,5))\n",
    "ax=sns.barplot(x='Total',y='Species',data=Legendary_table);\n",
    "plt.title('Distribution of Top 10 Pokemons as per requirements', y=1.03)\n",
    "plt.ylabel('')\n",
    "for t in ax.patches:\n",
    "        percentage = '{}'.format(t.get_width())\n",
    "        x = t.get_x() + t.get_width() + 3\n",
    "        y = t.get_y() + t.get_height()/2\n",
    "        ax.annotate(percentage, (x, y))"
   ]
  },
  {
   "cell_type": "code",
   "execution_count": 106,
   "id": "01b6378c",
   "metadata": {},
   "outputs": [
    {
     "data": {
      "text/plain": [
       "Text(0.5, 1.0, 'Generation Count')"
      ]
     },
     "execution_count": 106,
     "metadata": {},
     "output_type": "execute_result"
    },
    {
     "data": {
      "image/png": "[encoded data removed]",
      "text/plain": [
       "<Figure size 432x288 with 1 Axes>"
      ]
     },
     "metadata": {},
     "output_type": "display_data"
    }
   ],
   "source": [
    "#visualization as per generation\n",
    "Order=Legendary_table.Generation.value_counts().sort_values(ascending=False).index\n",
    "sns.countplot(x='Generation', data=Legendary_table, order=Order)\n",
    "plt.title('Generation Count')"
   ]
  },
  {
   "cell_type": "markdown",
   "id": "a71195e1",
   "metadata": {},
   "source": [
    "- From the table and the plots we can conclude the following:\n",
    " 1. GroudonPrimal Groudon is the leading pokemon in the legendary table. \n",
    " 2. Pokemons in the table have speeds below 120.\n",
    " 3. Majority of the pokemons belong to the 4th generation.\n",
    " 4. Pokemons have a small Atk/ def ratio of between 1.00 - 1.125.\n",
    " 5. Again Type 1 has majority of the known pokemons in the legendary table. "
   ]
  },
  {
   "cell_type": "markdown",
   "id": "6c99375c",
   "metadata": {},
   "source": []
  },
  {
   "cell_type": "markdown",
   "id": "d3f92d36",
   "metadata": {},
   "source": [
    "### Conclusions:\n"
   ]
  },
  {
   "cell_type": "markdown",
   "id": "979017a1",
   "metadata": {},
   "source": [
    "- After the analysis the following conclusion were made:\n",
    " 1. Pokemon(s) with highest total points include:  \n",
    "    -  RayquazaMega Rayquaza  \n",
    "    - MewtwoMega Mewtwo Y  \n",
    "    - MewtwoMega Mewtwo x \n",
    " 2. The highest recorded speed is 180.\n",
    " 3. Majority of the pokemon belong to the 1st generation.\n",
    " 4. 92% of the pokemons population are not legendary while 8% are legendary.\n",
    " 5. Majority of the pokemon belong to type 1.\n",
    " \n",
    "- After answering the questions this what we can conclude:\n",
    " 1.  Majority of the pokemons have an attack and defense range of between 50-100.\n",
    " 2. Similarly, the attack/defense ratio of the pokemons is majorly 1.\n",
    " 3. The leading pokemons are legendary and belong to the 3rd generation.\n",
    " 4. There there are 29 pokemons all having speeds above 120."
   ]
  },
  {
   "cell_type": "markdown",
   "id": "9aee6d17",
   "metadata": {},
   "source": [
    "### Limitations.\n",
    " \n",
    "- The Type 2 columns recorded 386 pokemons which are unspecified or didn't have a distinct name to identify. Hence this present a challenge when it comes to analyzing the pokemons according to their specific types."
   ]
  },
  {
   "cell_type": "markdown",
   "id": "d33ac582",
   "metadata": {},
   "source": [
    "#### Analysis by:\n",
    "\n",
    "Name: Mercy Mwikali\n",
    "\n",
    "Signature: M. M"
   ]
  }
 ],
 "metadata": {
  "kernelspec": {
   "display_name": "Python 3 (ipykernel)",
   "language": "python",
   "name": "python3"
  },
  "language_info": {
   "codemirror_mode": {
    "name": "ipython",
    "version": 3
   },
   "file_extension": ".py",
   "mimetype": "text/x-python",
   "name": "python",
   "nbconvert_exporter": "python",
   "pygments_lexer": "ipython3",
   "version": "3.9.12"
  }
 },
 "nbformat": 4,
 "nbformat_minor": 5
}
